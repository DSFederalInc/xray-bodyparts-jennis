{
 "cells": [
  {
   "cell_type": "code",
   "execution_count": 1,
   "id": "422c4541",
   "metadata": {},
   "outputs": [
    {
     "data": {
      "text/plain": [
       "'Reference:\\n    https://www.pluralsight.com/guides/introduction-to-densenet-with-tensorflow\\n'"
      ]
     },
     "execution_count": 1,
     "metadata": {},
     "output_type": "execute_result"
    }
   ],
   "source": [
    "import tensorflow \n",
    "\n",
    "import pandas as pd\n",
    "import numpy as np\n",
    "import os\n",
    "import keras\n",
    "import random\n",
    "import cv2\n",
    "import math\n",
    "import seaborn as sns\n",
    "\n",
    "from sklearn.metrics import confusion_matrix\n",
    "from sklearn.preprocessing import LabelBinarizer\n",
    "from sklearn.model_selection import train_test_split\n",
    "\n",
    "import matplotlib.pyplot as plt\n",
    "\n",
    "from tensorflow.keras.layers import Dense,GlobalAveragePooling2D,Convolution2D,BatchNormalization\n",
    "from tensorflow.keras.layers import Flatten,MaxPooling2D,Dropout\n",
    "\n",
    "from tensorflow.keras.applications import VGG19, DenseNet169\n",
    "from tensorflow.keras.applications.densenet import preprocess_input\n",
    "\n",
    "from tensorflow.keras.preprocessing import image\n",
    "from tensorflow.keras.preprocessing.image import ImageDataGenerator,img_to_array\n",
    "\n",
    "from tensorflow.keras.models import Model\n",
    "\n",
    "from tensorflow.keras.optimizers import Adam\n",
    "\n",
    "from tensorflow.keras.callbacks import ModelCheckpoint, ReduceLROnPlateau\n",
    "\n",
    "import warnings\n",
    "warnings.filterwarnings(\"ignore\")\n",
    "\n",
    "'''Reference:\n",
    "    https://www.pluralsight.com/guides/introduction-to-densenet-with-tensorflow\n",
    "'''"
   ]
  },
  {
   "cell_type": "code",
   "execution_count": 2,
   "id": "9bfb1cd0",
   "metadata": {},
   "outputs": [
    {
     "name": "stdout",
     "output_type": "stream",
     "text": [
      "Tensorflow-version: 2.9.1\n"
     ]
    }
   ],
   "source": [
    "print(\"Tensorflow-version:\", tensorflow.__version__)"
   ]
  },
  {
   "cell_type": "code",
   "execution_count": 3,
   "id": "ab142914",
   "metadata": {},
   "outputs": [],
   "source": [
    "model_d=VGG19(weights='imagenet',include_top=False, input_shape=(128, 128, 3)) \n",
    "\n",
    "x=model_d.output\n",
    "\n",
    "x= GlobalAveragePooling2D()(x)\n",
    "x= BatchNormalization()(x)\n",
    "x= Dropout(0.5)(x)\n",
    "x= Dense(1024,activation='relu')(x) \n",
    "x= Dense(512,activation='relu')(x) \n",
    "x= BatchNormalization()(x)\n",
    "x= Dropout(0.5)(x)\n",
    "\n",
    "preds=Dense(3,activation='softmax')(x) #FC-layer, your number of the classes"
   ]
  },
  {
   "cell_type": "code",
   "execution_count": 4,
   "id": "30b5bc53",
   "metadata": {},
   "outputs": [
    {
     "name": "stdout",
     "output_type": "stream",
     "text": [
      "Model: \"model\"\n",
      "_________________________________________________________________\n",
      " Layer (type)                Output Shape              Param #   \n",
      "=================================================================\n",
      " input_1 (InputLayer)        [(None, 128, 128, 3)]     0         \n",
      "                                                                 \n",
      " block1_conv1 (Conv2D)       (None, 128, 128, 64)      1792      \n",
      "                                                                 \n",
      " block1_conv2 (Conv2D)       (None, 128, 128, 64)      36928     \n",
      "                                                                 \n",
      " block1_pool (MaxPooling2D)  (None, 64, 64, 64)        0         \n",
      "                                                                 \n",
      " block2_conv1 (Conv2D)       (None, 64, 64, 128)       73856     \n",
      "                                                                 \n",
      " block2_conv2 (Conv2D)       (None, 64, 64, 128)       147584    \n",
      "                                                                 \n",
      " block2_pool (MaxPooling2D)  (None, 32, 32, 128)       0         \n",
      "                                                                 \n",
      " block3_conv1 (Conv2D)       (None, 32, 32, 256)       295168    \n",
      "                                                                 \n",
      " block3_conv2 (Conv2D)       (None, 32, 32, 256)       590080    \n",
      "                                                                 \n",
      " block3_conv3 (Conv2D)       (None, 32, 32, 256)       590080    \n",
      "                                                                 \n",
      " block3_conv4 (Conv2D)       (None, 32, 32, 256)       590080    \n",
      "                                                                 \n",
      " block3_pool (MaxPooling2D)  (None, 16, 16, 256)       0         \n",
      "                                                                 \n",
      " block4_conv1 (Conv2D)       (None, 16, 16, 512)       1180160   \n",
      "                                                                 \n",
      " block4_conv2 (Conv2D)       (None, 16, 16, 512)       2359808   \n",
      "                                                                 \n",
      " block4_conv3 (Conv2D)       (None, 16, 16, 512)       2359808   \n",
      "                                                                 \n",
      " block4_conv4 (Conv2D)       (None, 16, 16, 512)       2359808   \n",
      "                                                                 \n",
      " block4_pool (MaxPooling2D)  (None, 8, 8, 512)         0         \n",
      "                                                                 \n",
      " block5_conv1 (Conv2D)       (None, 8, 8, 512)         2359808   \n",
      "                                                                 \n",
      " block5_conv2 (Conv2D)       (None, 8, 8, 512)         2359808   \n",
      "                                                                 \n",
      " block5_conv3 (Conv2D)       (None, 8, 8, 512)         2359808   \n",
      "                                                                 \n",
      " block5_conv4 (Conv2D)       (None, 8, 8, 512)         2359808   \n",
      "                                                                 \n",
      " block5_pool (MaxPooling2D)  (None, 4, 4, 512)         0         \n",
      "                                                                 \n",
      " global_average_pooling2d (G  (None, 512)              0         \n",
      " lobalAveragePooling2D)                                          \n",
      "                                                                 \n",
      " batch_normalization (BatchN  (None, 512)              2048      \n",
      " ormalization)                                                   \n",
      "                                                                 \n",
      " dropout (Dropout)           (None, 512)               0         \n",
      "                                                                 \n",
      " dense (Dense)               (None, 1024)              525312    \n",
      "                                                                 \n",
      " dense_1 (Dense)             (None, 512)               524800    \n",
      "                                                                 \n",
      " batch_normalization_1 (Batc  (None, 512)              2048      \n",
      " hNormalization)                                                 \n",
      "                                                                 \n",
      " dropout_1 (Dropout)         (None, 512)               0         \n",
      "                                                                 \n",
      " dense_2 (Dense)             (None, 3)                 1539      \n",
      "                                                                 \n",
      "=================================================================\n",
      "Total params: 21,080,131\n",
      "Trainable params: 21,078,083\n",
      "Non-trainable params: 2,048\n",
      "_________________________________________________________________\n"
     ]
    }
   ],
   "source": [
    "model=Model(inputs=model_d.input,outputs=preds)\n",
    "model.summary()\n",
    "\n"
   ]
  },
  {
   "cell_type": "code",
   "execution_count": 5,
   "id": "ffddcbc5",
   "metadata": {},
   "outputs": [],
   "source": [
    "for layer in model.layers[:-8]:\n",
    "    layer.trainable=False\n",
    "    \n",
    "for layer in model.layers[-8:]:\n",
    "    layer.trainable=True\n",
    "    \n",
    "#To avoid the problem of overfitting, avoid training the entire network. layer.trainable=False will freeze all the layers, keeping only the last eight layers (FC) to detect edges and blobs in the image. Once the model is fitted well, it can be fine-tuned by using layer.trainable=True."
   ]
  },
  {
   "cell_type": "code",
   "execution_count": 6,
   "id": "9cbee847",
   "metadata": {},
   "outputs": [
    {
     "name": "stdout",
     "output_type": "stream",
     "text": [
      "Model: \"model\"\n",
      "_________________________________________________________________\n",
      " Layer (type)                Output Shape              Param #   \n",
      "=================================================================\n",
      " input_1 (InputLayer)        [(None, 128, 128, 3)]     0         \n",
      "                                                                 \n",
      " block1_conv1 (Conv2D)       (None, 128, 128, 64)      1792      \n",
      "                                                                 \n",
      " block1_conv2 (Conv2D)       (None, 128, 128, 64)      36928     \n",
      "                                                                 \n",
      " block1_pool (MaxPooling2D)  (None, 64, 64, 64)        0         \n",
      "                                                                 \n",
      " block2_conv1 (Conv2D)       (None, 64, 64, 128)       73856     \n",
      "                                                                 \n",
      " block2_conv2 (Conv2D)       (None, 64, 64, 128)       147584    \n",
      "                                                                 \n",
      " block2_pool (MaxPooling2D)  (None, 32, 32, 128)       0         \n",
      "                                                                 \n",
      " block3_conv1 (Conv2D)       (None, 32, 32, 256)       295168    \n",
      "                                                                 \n",
      " block3_conv2 (Conv2D)       (None, 32, 32, 256)       590080    \n",
      "                                                                 \n",
      " block3_conv3 (Conv2D)       (None, 32, 32, 256)       590080    \n",
      "                                                                 \n",
      " block3_conv4 (Conv2D)       (None, 32, 32, 256)       590080    \n",
      "                                                                 \n",
      " block3_pool (MaxPooling2D)  (None, 16, 16, 256)       0         \n",
      "                                                                 \n",
      " block4_conv1 (Conv2D)       (None, 16, 16, 512)       1180160   \n",
      "                                                                 \n",
      " block4_conv2 (Conv2D)       (None, 16, 16, 512)       2359808   \n",
      "                                                                 \n",
      " block4_conv3 (Conv2D)       (None, 16, 16, 512)       2359808   \n",
      "                                                                 \n",
      " block4_conv4 (Conv2D)       (None, 16, 16, 512)       2359808   \n",
      "                                                                 \n",
      " block4_pool (MaxPooling2D)  (None, 8, 8, 512)         0         \n",
      "                                                                 \n",
      " block5_conv1 (Conv2D)       (None, 8, 8, 512)         2359808   \n",
      "                                                                 \n",
      " block5_conv2 (Conv2D)       (None, 8, 8, 512)         2359808   \n",
      "                                                                 \n",
      " block5_conv3 (Conv2D)       (None, 8, 8, 512)         2359808   \n",
      "                                                                 \n",
      " block5_conv4 (Conv2D)       (None, 8, 8, 512)         2359808   \n",
      "                                                                 \n",
      " block5_pool (MaxPooling2D)  (None, 4, 4, 512)         0         \n",
      "                                                                 \n",
      " global_average_pooling2d (G  (None, 512)              0         \n",
      " lobalAveragePooling2D)                                          \n",
      "                                                                 \n",
      " batch_normalization (BatchN  (None, 512)              2048      \n",
      " ormalization)                                                   \n",
      "                                                                 \n",
      " dropout (Dropout)           (None, 512)               0         \n",
      "                                                                 \n",
      " dense (Dense)               (None, 1024)              525312    \n",
      "                                                                 \n",
      " dense_1 (Dense)             (None, 512)               524800    \n",
      "                                                                 \n",
      " batch_normalization_1 (Batc  (None, 512)              2048      \n",
      " hNormalization)                                                 \n",
      "                                                                 \n",
      " dropout_1 (Dropout)         (None, 512)               0         \n",
      "                                                                 \n",
      " dense_2 (Dense)             (None, 3)                 1539      \n",
      "                                                                 \n",
      "=================================================================\n",
      "Total params: 21,080,131\n",
      "Trainable params: 1,053,699\n",
      "Non-trainable params: 20,026,432\n",
      "_________________________________________________________________\n"
     ]
    }
   ],
   "source": [
    "model.compile(optimizer='Adam',loss='categorical_crossentropy',metrics=['accuracy'])\n",
    "model.summary()"
   ]
  },
  {
   "cell_type": "code",
   "execution_count": 7,
   "id": "62235977",
   "metadata": {},
   "outputs": [],
   "source": [
    "data=[]\n",
    "labels=[]\n",
    "random.seed(42)\n",
    "\n",
    "imagePaths = list(os.listdir(\"C:/UNIFESP_Xray/Xray_train_224/\"))  #sorting by numbers"
   ]
  },
  {
   "cell_type": "code",
   "execution_count": 8,
   "id": "664d453f",
   "metadata": {},
   "outputs": [
    {
     "name": "stdout",
     "output_type": "stream",
     "text": [
      "Count for label 0 :  724\n",
      "Count for label 1 :  120\n",
      "Count for label 2 :  762\n"
     ]
    }
   ],
   "source": [
    "for folder in imagePaths:\n",
    "    path=list(os.listdir(\"C:/UNIFESP_Xray/Xray_train_224/\"+folder))   #folders are class names\n",
    "# Get the image array and label of every image\n",
    "\n",
    "    for i in path:\n",
    "        image = cv2.imread(\"C:/UNIFESP_Xray/Xray_train_224/\"+str(folder)+'/'+i)\n",
    "        image = cv2.resize(image, (128,128))\n",
    "        image = img_to_array(image)\n",
    "        data.append(image)\n",
    "\n",
    "    # Change the labels to 3 classes\n",
    "        l = label = folder\n",
    "        if folder == \"3\":\n",
    "            l = 0\n",
    "        elif folder == \"14\" :\n",
    "            l = 1\n",
    "        else:\n",
    "            l = 2\n",
    "        \n",
    "        labels.append(l)\n",
    "\n",
    "print(\"Count for label 0 : \", labels.count(0))\n",
    "print(\"Count for label 1 : \", labels.count(1))\n",
    "print(\"Count for label 2 : \", labels.count(2))"
   ]
  },
  {
   "cell_type": "code",
   "execution_count": 9,
   "id": "7f6dabd5",
   "metadata": {
    "scrolled": false
   },
   "outputs": [
    {
     "name": "stdout",
     "output_type": "stream",
     "text": [
      "0    724\n",
      "1    120\n",
      "2    762\n",
      "dtype: int64\n",
      "weight list: [1.38121547 8.33333333 1.31233596]\n"
     ]
    }
   ],
   "source": [
    "# Use the reciprocal of every single class as the weights \n",
    "\n",
    "print(pd.DataFrame(labels).value_counts(sort=False))\n",
    "weights=np.reciprocal(np.array(pd.DataFrame(labels).value_counts(sort=False))/1000) #reciprocal(倒數)needs input less than 1\n",
    "print(\"weight list:\",weights)\n",
    "\n",
    "\n",
    "#try sample weight to balance the training"
   ]
  },
  {
   "cell_type": "code",
   "execution_count": 10,
   "id": "8a54b52d",
   "metadata": {},
   "outputs": [
    {
     "name": "stdout",
     "output_type": "stream",
     "text": [
      "[[0 0 1]\n",
      " [0 0 1]\n",
      " [0 0 1]\n",
      " ...\n",
      " [0 0 1]\n",
      " [0 0 1]\n",
      " [0 0 1]]\n"
     ]
    }
   ],
   "source": [
    "data = np.array(data, dtype=\"float32\") / 255.0   #normaliztion\n",
    "labels = np.array(labels)\n",
    "mlb = LabelBinarizer()\n",
    "onehot_labels = mlb.fit_transform(labels)     #Binarize labels in a one-vs-all fashion. one-hot encoding\n",
    "print(onehot_labels)"
   ]
  },
  {
   "cell_type": "code",
   "execution_count": 11,
   "id": "2b9d1aea",
   "metadata": {
    "scrolled": false
   },
   "outputs": [
    {
     "name": "stdout",
     "output_type": "stream",
     "text": [
      "(1284, 128, 128, 3) (322, 128, 128, 3)\n"
     ]
    }
   ],
   "source": [
    "(xtrain,xtest,ytrain,ytest)=train_test_split(data,onehot_labels,test_size=0.2,random_state=42)\n",
    "sample_weight = []\n",
    "for i in range(len(ytrain)):\n",
    "    for j in range(len(weights)):\n",
    "        if labels[i] == j:\n",
    "            sample_weight.append(weights[j])\n",
    "\n",
    "print(xtrain.shape, xtest.shape)"
   ]
  },
  {
   "cell_type": "code",
   "execution_count": null,
   "id": "356fcd0e",
   "metadata": {},
   "outputs": [
    {
     "name": "stdout",
     "output_type": "stream",
     "text": [
      "Epoch 1/50\n"
     ]
    }
   ],
   "source": [
    "# Reduce learning rate when a metric has stopped improving.\n",
    "# Models often benefit from reducing the learning rate by a factor of 2-10 once learning stagnates. This callback monitors a quantity and if no improvement is seen for a 'patience' number of epochs, the learning rate is reduced.\n",
    "anne = ReduceLROnPlateau(monitor='val_accuracy', factor=0.5, patience=5, verbose=1, min_lr=1e-3)\n",
    "\n",
    "# Callback to save the Keras model or model weights at some frequency.\n",
    "checkpoint = ModelCheckpoint('VGG19_3_weights.h5', verbose=1, save_best_only=True)\n",
    "\n",
    "# Generate batches of tensor image data with real-time data augmentation.\n",
    "datagen = ImageDataGenerator(zoom_range = 0.5, horizontal_flip=True, shear_range=0.5)\n",
    "\n",
    "\n",
    "datagen.fit(xtrain)\n",
    "# Fits-the-model\n",
    "history = model.fit_generator(datagen.flow(xtrain, ytrain, batch_size=128, shuffle=True, sample_weight=sample_weight),\n",
    "               steps_per_epoch=xtrain.shape[0] //128,\n",
    "               epochs=50,\n",
    "               verbose=2,\n",
    "               callbacks=[anne, checkpoint],\n",
    "               validation_data=(xtrain, ytrain))"
   ]
  },
  {
   "cell_type": "code",
   "execution_count": null,
   "id": "f93b4e22",
   "metadata": {},
   "outputs": [],
   "source": [
    "# Generates output predictions for the input samples. Computation is done in batches.\n",
    "ypred = model.predict(xtest)\n",
    "\n",
    "total = 0\n",
    "accurate = 0\n",
    "accurateindex = []\n",
    "wrongindex = []\n",
    "\n",
    "for i in range(len(ypred)):\n",
    "    if np.argmax(ypred[i]) == np.argmax(ytest[i]):\n",
    "        accurate += 1\n",
    "        accurateindex.append(i)\n",
    "    else:\n",
    "        wrongindex.append(i)\n",
    "        \n",
    "    total += 1\n",
    "    \n",
    "print('Total-test-data;', total, '\\taccurately-predicted-data:', accurate, '\\t wrongly-predicted-data: ', total - accurate)\n",
    "print('Accuracy:', round(accurate/total*100, 3), '%')"
   ]
  },
  {
   "cell_type": "code",
   "execution_count": null,
   "id": "8ab480c8",
   "metadata": {},
   "outputs": [],
   "source": [
    "# Show some random accurately predicted samples\n",
    "label=['Chest','Others','20 parts']\n",
    "imidx = random.sample(accurateindex, k=9) #random.sample(sequence, k), k: An Integer value, it specify the length of a sample.\n",
    "\n",
    "\n",
    "nrows = 3\n",
    "ncols = 3\n",
    "fig, ax = plt.subplots(nrows,ncols,sharex=True,sharey=True,figsize=(15, 12))\n",
    "\n",
    "n = 0\n",
    "for row in range(nrows):\n",
    "    for col in range(ncols):\n",
    "            ax[row,col].imshow(xtest[imidx[n]])\n",
    "            ax[row,col].set_title(\"Predicted label :{}\\nTrue label :{}\".format(label[np.argmax(ypred[imidx[n]])], label[np.argmax(ytest[imidx[n]])]))\n",
    "            n += 1\n",
    "\n",
    "plt.show()"
   ]
  },
  {
   "cell_type": "code",
   "execution_count": null,
   "id": "faa1dbad",
   "metadata": {},
   "outputs": [],
   "source": [
    "Ypred = model.predict(xtest)\n",
    "\n",
    "Ypred = np.argmax(Ypred, axis=1)\n",
    "Ytrue = np.argmax(ytest, axis=1)\n",
    "\n",
    "cm = confusion_matrix(Ytrue, Ypred)\n",
    "plt.figure(figsize=(12, 12))\n",
    "ax = sns.heatmap(cm, cmap=\"rocket_r\", fmt=\".01f\",annot_kws={'size':10}, annot=True, square=True, xticklabels=label, yticklabels=label)\n",
    "ax.set_ylabel('Actual', fontsize=20)\n",
    "ax.set_xlabel('Predicted', fontsize=20)"
   ]
  },
  {
   "cell_type": "code",
   "execution_count": null,
   "id": "53332a6c",
   "metadata": {},
   "outputs": [],
   "source": [
    "loaded_model = tensorflow.keras.models.load_model('VGG19_3_weights.h5')"
   ]
  },
  {
   "cell_type": "code",
   "execution_count": null,
   "id": "4b6abede",
   "metadata": {
    "scrolled": true
   },
   "outputs": [],
   "source": [
    "test_pd = pd.read_csv(\"C:/UNIFESP_Xray/Xray_small/sample_submission.csv\")\n",
    "\n",
    "test_path = \"C:/UNIFESP_Xray/Xray_small_jpg/test/\"\n",
    "\n",
    "submission_data = []\n",
    "submission_labels = []\n",
    "print(type(submission_data))\n",
    "\n",
    "for test_id in test_pd['SOPInstanceUID']:\n",
    "    print(test_id)\n",
    "    test_img = cv2.imread(test_path+test_id+\"-c.jpg\")\n",
    "    test_img = cv2.resize(test_img, (128,128))\n",
    "    test_img = img_to_array(test_img)\n",
    "    submission_data.append(test_img)\n",
    "\n",
    "submission_data = np.array(submission_data, dtype=\"float32\") / 255.0   #normaliztion\n",
    "    \n",
    "submission_preds = loaded_model.predict(submission_data)\n",
    "print(\"raw preds:\",submission_preds)\n",
    "\n",
    "submission_labels = [label[index].replace(\"_\",\" \") for index in np.argmax(submission_preds, axis=1)]\n",
    "\n",
    "print(\"argmax:\",submission_labels)\n",
    "\n",
    "test_pd['Target'] = submission_labels\n",
    "test_pd.to_csv(\"C:/Users/janic/Desktop/DSFederal/VGG19_3_weights.csv\", index=False)"
   ]
  },
  {
   "cell_type": "code",
   "execution_count": null,
   "id": "e594dfa7",
   "metadata": {},
   "outputs": [],
   "source": []
  }
 ],
 "metadata": {
  "kernelspec": {
   "display_name": "Python 3",
   "language": "python",
   "name": "python3"
  },
  "language_info": {
   "codemirror_mode": {
    "name": "ipython",
    "version": 3
   },
   "file_extension": ".py",
   "mimetype": "text/x-python",
   "name": "python",
   "nbconvert_exporter": "python",
   "pygments_lexer": "ipython3",
   "version": "3.8.8"
  }
 },
 "nbformat": 4,
 "nbformat_minor": 5
}
